{
 "cells": [
  {
   "cell_type": "markdown",
   "id": "a159f185-dd12-4ee3-9a53-2506ef9de70e",
   "metadata": {},
   "source": [
    "# Intro"
   ]
  },
  {
   "cell_type": "markdown",
   "id": "8fdd38e6-f04b-46fd-9cae-9ce65e46b4d3",
   "metadata": {},
   "source": [
    "Ultrashort pulse lasers with high peak powers have several applications in important areas, such as\n",
    "plasma physics, fusion, high harmonic generation for X-rays and biology. Over the years, the maximum power achieved by laser pulse generation has been increasing by several orders of magnitude,\n",
    "reaching the Petawatt regime (1015W)."
   ]
  },
  {
   "cell_type": "code",
   "execution_count": 2,
   "id": "39715838-2221-4d53-9817-e9f91a2f47d7",
   "metadata": {},
   "outputs": [],
   "source": [
    "import pandas as pd\n",
    "import numpy as np\n",
    "import matplotlib.pyplot as plt"
   ]
  }
 ],
 "metadata": {
  "kernelspec": {
   "display_name": "Python [conda env:base] *",
   "language": "python",
   "name": "conda-base-py"
  },
  "language_info": {
   "codemirror_mode": {
    "name": "ipython",
    "version": 3
   },
   "file_extension": ".py",
   "mimetype": "text/x-python",
   "name": "python",
   "nbconvert_exporter": "python",
   "pygments_lexer": "ipython3",
   "version": "3.12.7"
  }
 },
 "nbformat": 4,
 "nbformat_minor": 5
}
