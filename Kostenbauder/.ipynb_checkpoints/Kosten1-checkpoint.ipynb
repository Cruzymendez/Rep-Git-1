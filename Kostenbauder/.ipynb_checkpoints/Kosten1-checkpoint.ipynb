{
 "cells": [
  {
   "cell_type": "markdown",
   "id": "a159f185-dd12-4ee3-9a53-2506ef9de70e",
   "metadata": {},
   "source": [
    "# Intro"
   ]
  },
  {
   "cell_type": "markdown",
   "id": "8fdd38e6-f04b-46fd-9cae-9ce65e46b4d3",
   "metadata": {},
   "source": [
    "Ultrashort pulse lasers with high peak powers have several applications in important areas, such as\n",
    "plasma physics, fusion, high harmonic generation for X-rays and biology. Over the years, the maximum power achieved by laser pulse generation has been increasing by several orders of magnitude,\n",
    "reaching the Petawatt regime (1015W)."
   ]
  },
  {
   "cell_type": "markdown",
   "id": "7f612c32-70f4-42e7-bbd2-8b82afb85357",
   "metadata": {},
   "source": [
    "## subtitulo"
   ]
  },
  {
   "cell_type": "markdown",
   "id": "a2385a80-8992-4731-9fcc-1c1a0cc57522",
   "metadata": {},
   "source": [
    "# Conclusiones\n",
    "* primera\n",
    "* segunda\n",
    "* tercera"
   ]
  },
  {
   "cell_type": "code",
   "execution_count": null,
   "id": "20b5b519-19f8-46c7-a081-60fd33a0471f",
   "metadata": {},
   "outputs": [],
   "source": []
  }
 ],
 "metadata": {
  "kernelspec": {
   "display_name": "Python 3 (ipykernel)",
   "language": "python",
   "name": "python3"
  },
  "language_info": {
   "codemirror_mode": {
    "name": "ipython",
    "version": 3
   },
   "file_extension": ".py",
   "mimetype": "text/x-python",
   "name": "python",
   "nbconvert_exporter": "python",
   "pygments_lexer": "ipython3",
   "version": "3.13.1"
  }
 },
 "nbformat": 4,
 "nbformat_minor": 5
}
